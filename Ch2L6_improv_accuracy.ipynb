{
 "cells": [
  {
   "cell_type": "code",
   "execution_count": 1,
   "metadata": {},
   "outputs": [],
   "source": [
    "# Improving the accuracy\n",
    "\n",
    "import numpy as np\n",
    "import matplotlib.pyplot as plt\n"
   ]
  },
  {
   "cell_type": "code",
   "execution_count": 2,
   "metadata": {},
   "outputs": [],
   "source": [
    "def EulerMethod(f, t0, tend, u, N):\n",
    "    h = (tend-t0)/N\n",
    "    t = np.linspace(t0, tend, N)\n",
    "    result = []\n",
    "    result.append(u)\n",
    "\n",
    "    for k in range(1, N+1):\n",
    "        k1 = f(t[k-1], u)     #One Eulerstep of size h\n",
    "        k2 = f(t[k-1]+0.5*h, u + 0.5*h*k1)\n",
    "        u =u + h*k2\n",
    "        result.append(u)\n",
    "    return h, np.array(t), np.array(result)\n",
    "\n",
    "def f(t, u):\n",
    "    eps = 1\n",
    "    f = np.zeros(2)\n",
    "    f[0] = u[1]\n",
    "    f[1] = -eps * (u[0] ** 2 - 1) * u[1] - u[0]\n",
    "    return f"
   ]
  },
  {
   "cell_type": "code",
   "execution_count": 3,
   "metadata": {},
   "outputs": [],
   "source": [
    "t0 = 0.0\n",
    "tend = 1\n",
    "N = [4, 8, 16]\n",
    "u = np.array([1.0, 0.0])\n",
    "h, t, result = EulerMethod(f, t0, tend, u, 320)\n",
    "y1 = result[-1][0]\n",
    "u_N = []\n",
    "step =[]\n",
    "e = []\n",
    "for k in range(0, len(N)):\n",
    "    h, t, result = EulerMethod(f, t0, tend, u, N[k])\n",
    "    u_N.append(result[-1][0])\n",
    "    dif = (u_N[k]- y1)\n",
    "    e.append(dif)\n",
    "    step.append(h)\n"
   ]
  },
  {
   "cell_type": "code",
   "execution_count": 20,
   "metadata": {},
   "outputs": [
    {
     "name": "stdout",
     "output_type": "stream",
     "text": [
      "\n",
      "       N            h           u_1N         u_1N-y(1) \n",
      "  ____________________________________________________ \n",
      "         4       0.2500         0.4989       0.0013 \n",
      "         8       0.1250         0.4980       0.0004 \n",
      "        16       0.0625         0.4977       0.0001 \n"
     ]
    }
   ],
   "source": [
    "print(\"\\n       N \", end=\"  \")\n",
    "print(\"         h \", end=\" \")\n",
    "print(\"         u_1N\", end=\"  \")\n",
    "print(\"       u_1N-y(1)\", end = \" \")\n",
    "print(\"\\n  ____________________________________________________\", end= \" \")\n",
    "print()\n",
    "for i in range(0, len(N)):\n",
    "    print(\"{:10d}\".format(N[i]), end=\" \")\n",
    "    print(\"{:12.4f}\".format(step[i]), end=\" \")\n",
    "    print(\"{:14.4f}\".format(u_N[i]), end = \" \")\n",
    "    print(\"{:12.4f}\".format(e[i]), end = \" \")\n",
    "    print()\n"
   ]
  },
  {
   "cell_type": "code",
   "execution_count": 5,
   "metadata": {},
   "outputs": [
    {
     "data": {
      "image/png": "[encoded data removed]",
      "text/plain": [
       "<Figure size 432x288 with 1 Axes>"
      ]
     },
     "metadata": {
      "needs_background": "light"
     },
     "output_type": "display_data"
    }
   ],
   "source": [
    "plt.loglog(step, e)\n",
    "plt.xlabel('step size h')\n",
    "plt.ylabel('trunction error')\n",
    "plt.title('loglog-diagram of error as function of h')\n",
    "plt.show()"
   ]
  },
  {
   "cell_type": "code",
   "execution_count": null,
   "metadata": {},
   "outputs": [],
   "source": []
  }
 ],
 "metadata": {
  "kernelspec": {
   "display_name": "Python 3",
   "language": "python",
   "name": "python3"
  },
  "language_info": {
   "codemirror_mode": {
    "name": "ipython",
    "version": 3
   },
   "file_extension": ".py",
   "mimetype": "text/x-python",
   "name": "python",
   "nbconvert_exporter": "python",
   "pygments_lexer": "ipython3",
   "version": "3.8.5"
  }
 },
 "nbformat": 4,
 "nbformat_minor": 4
}
