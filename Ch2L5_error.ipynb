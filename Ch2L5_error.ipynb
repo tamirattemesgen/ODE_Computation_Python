{
 "cells": [
  {
   "cell_type": "code",
   "execution_count": 1,
   "metadata": {},
   "outputs": [],
   "source": [
    "import numpy as np\n",
    "def EulerMethod(f, t0, tend, u, N):\n",
    "    h = (tend-t0)/N\n",
    "    t = np.linspace(t0, tend, N)\n",
    "    result = []\n",
    "    result.append(u)\n",
    "    for k in range(1, N):\n",
    "        u = u + h * f(t[k-1], u)\n",
    "        result.append(u)\n",
    "    return h, np.array(t), np.array(result)\n",
    "\n",
    "# define the right side function\n",
    "def f(t, u):\n",
    "    eps = 1\n",
    "    f = np.zeros(2)\n",
    "    f[0] = u[1]\n",
    "    f[1] = -eps*(u[0]**2-1)*u[1]-u[0]\n",
    "    return f"
   ]
  },
  {
   "cell_type": "code",
   "execution_count": 2,
   "metadata": {},
   "outputs": [],
   "source": [
    "# parameters\n",
    "t0 = 0.0\n",
    "tend = 1\n",
    "N = [16, 32, 64, 128, 256, 512, 1024, 2048]\n",
    "u = np.array([1.0, 0.0])\n",
    "h, t, result = EulerMethod(f, t0, tend, u, 8192) # here y(1) is approximated by N = 8192"
   ]
  },
  {
   "cell_type": "code",
   "execution_count": 3,
   "metadata": {},
   "outputs": [],
   "source": [
    "y1 = result[-1][0]"
   ]
  },
  {
   "cell_type": "code",
   "execution_count": 5,
   "metadata": {},
   "outputs": [],
   "source": [
    "u_N = []\n",
    "step = []\n",
    "e = []\n",
    "for k in range(0, len(N)):\n",
    "    h, t, result = EulerMethod(f, t0, tend, u, N[k])\n",
    "    u_N.append(result[-1][0])\n",
    "    e.append(u_N[k]-y1)\n",
    "    step.append(h)"
   ]
  },
  {
   "cell_type": "code",
   "execution_count": 6,
   "metadata": {},
   "outputs": [
    {
     "name": "stdout",
     "output_type": "stream",
     "text": [
      "\n",
      "          N            h           u_1N         u_1N-y(1) \n",
      "         ________________________________________________ \n",
      "          16       0.0625         0.5902         0.0924 \n",
      "          32       0.0312         0.5453         0.0475 \n",
      "          64       0.0156         0.5218         0.0240 \n",
      "         128       0.0078         0.5098         0.0120 \n",
      "         256       0.0039         0.5037         0.0059 \n",
      "         512       0.0020         0.5007         0.0029 \n",
      "        1024       0.0010         0.4991         0.0013 \n",
      "        2048       0.0005         0.4984         0.0006 \n"
     ]
    }
   ],
   "source": [
    "print(\"\\n          N \", end=\"  \")\n",
    "print(\"         h \", end=\" \")\n",
    "print(\"         u_1N\", end=\"  \")\n",
    "print(\"       u_1N-y(1)\", end = \" \")\n",
    "print(\"\\n         ________________________________________________\", end= \" \")\n",
    "print()\n",
    "for i in range(0, len(N)):\n",
    "    print(\"{:12d}\".format(N[i]),  end=\" \")\n",
    "    print(\"{:12.4f}\".format(step[i]), end=\" \")\n",
    "    print(\"{:14.4f}\".format(u_N[i]), end=\" \")\n",
    "    print(\"{:14.4f}\".format(e[i]),  end = \" \")\n",
    "    print()"
   ]
  },
  {
   "cell_type": "code",
   "execution_count": 8,
   "metadata": {},
   "outputs": [
    {
     "data": {
      "image/png": "[encoded data removed]",
      "text/plain": [
       "<Figure size 432x288 with 1 Axes>"
      ]
     },
     "metadata": {
      "needs_background": "light"
     },
     "output_type": "display_data"
    }
   ],
   "source": [
    "import matplotlib.pyplot as plt\n",
    "plt.loglog(step, e, 'r')\n",
    "plt.xlabel('step size h')\n",
    "plt.ylabel('trunction error')\n",
    "plt.title('loglog-diagram of error as function of h')\n",
    "plt.show()"
   ]
  },
  {
   "cell_type": "code",
   "execution_count": null,
   "metadata": {},
   "outputs": [],
   "source": []
  }
 ],
 "metadata": {
  "kernelspec": {
   "display_name": "Python 3",
   "language": "python",
   "name": "python3"
  },
  "language_info": {
   "codemirror_mode": {
    "name": "ipython",
    "version": 3
   },
   "file_extension": ".py",
   "mimetype": "text/x-python",
   "name": "python",
   "nbconvert_exporter": "python",
   "pygments_lexer": "ipython3",
   "version": "3.8.5"
  }
 },
 "nbformat": 4,
 "nbformat_minor": 4
}
