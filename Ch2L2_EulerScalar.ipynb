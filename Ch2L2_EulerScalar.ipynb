{
 "cells": [
  {
   "cell_type": "markdown",
   "metadata": {},
   "source": [
    "The solution of an ODE given using Euler forward method"
   ]
  },
  {
   "cell_type": "code",
   "execution_count": 1,
   "metadata": {},
   "outputs": [],
   "source": [
    "import numpy as np\n",
    "import matplotlib.pyplot as plt"
   ]
  },
  {
   "cell_type": "code",
   "execution_count": 2,
   "metadata": {},
   "outputs": [],
   "source": [
    "def f(t,y):\n",
    "    return y+t"
   ]
  },
  {
   "cell_type": "code",
   "execution_count": 3,
   "metadata": {},
   "outputs": [],
   "source": [
    "a, b = [0, 3]\n",
    "y0 = 1\n",
    "h = 0.3\n",
    "t = np.arange(a, b+h,h)\n"
   ]
  },
  {
   "cell_type": "code",
   "execution_count": 4,
   "metadata": {},
   "outputs": [],
   "source": [
    "yAp = np.zeros(len(t))\n",
    "yAp[0]= y0\n",
    "yExact =np.zeros(len(t))\n",
    "yExact[0]=y0\n",
    "for k in range(1, len(t)):\n",
    "    yAp[k] = yAp[k-1] + h*f(t[k-1],yAp[k-1])\n",
    "    yExact[k] = -t[k]-1+2*np.exp(t[k])\n",
    "    t[k] = t[k-1] + h"
   ]
  },
  {
   "cell_type": "code",
   "execution_count": 5,
   "metadata": {},
   "outputs": [
    {
     "name": "stdout",
     "output_type": "stream",
     "text": [
      "\n",
      "           t              yAp           yExact \n",
      "        -----------------------------------------\n",
      "\n",
      "        0.0000         1.0000         1.0000 \n",
      "        0.3000         1.3000         1.3997 \n",
      "        0.6000         1.7800         2.0442 \n",
      "        0.9000         2.4940         3.0192 \n",
      "        1.2000         3.5122         4.4402 \n",
      "        1.5000         4.9259         6.4634 \n",
      "        1.8000         6.8536         9.2993 \n",
      "        2.1000         9.4497        13.2323 \n",
      "        2.4000        12.9146        18.6464 \n",
      "        2.7000        17.5090        26.0595 \n",
      "        3.0000        23.5717        36.1711 \n"
     ]
    }
   ],
   "source": [
    "print(\"\\n           t\", end = \" \")\n",
    "print(\"             yAp\",end = \" \")\n",
    "print(\"          yExact\", end =\" \")\n",
    "print(\"\\n        -----------------------------------------\")\n",
    "for i in range(0, len(t)):\n",
    "    print(\"\\n{:14.4f}\".format(t[i]), end =\" \")\n",
    "    print(\"{:14.4f}\".format(yAp[i]), end =\" \")\n",
    "    print(\"{:14.4f}\".format(yExact[i]), end =\" \")\n",
    "print()"
   ]
  },
  {
   "cell_type": "code",
   "execution_count": 6,
   "metadata": {},
   "outputs": [
    {
     "data": {
      "image/png": "[encoded data removed]",
      "text/plain": [
       "<Figure size 432x288 with 1 Axes>"
      ]
     },
     "metadata": {
      "needs_background": "light"
     },
     "output_type": "display_data"
    }
   ],
   "source": [
    "plt.plot(t, yAp, '*', t, yExact, '-')\n",
    "plt.grid(True)\n",
    "plt.xlabel('t'); plt.ylabel('y')\n",
    "plt.legend(('Euler', 'Exact'), loc = 0)\n",
    "plt.show()"
   ]
  },
  {
   "cell_type": "code",
   "execution_count": null,
   "metadata": {},
   "outputs": [],
   "source": []
  }
 ],
 "metadata": {
  "kernelspec": {
   "display_name": "Python 3",
   "language": "python",
   "name": "python3"
  },
  "language_info": {
   "codemirror_mode": {
    "name": "ipython",
    "version": 3
   },
   "file_extension": ".py",
   "mimetype": "text/x-python",
   "name": "python",
   "nbconvert_exporter": "python",
   "pygments_lexer": "ipython3",
   "version": "3.8.5"
  }
 },
 "nbformat": 4,
 "nbformat_minor": 2
}
