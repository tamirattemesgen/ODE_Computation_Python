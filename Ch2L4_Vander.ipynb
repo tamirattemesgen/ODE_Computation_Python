{
 "cells": [
  {
   "cell_type": "markdown",
   "metadata": {},
   "source": [
    "### Numerical Solution for Van der Pol's equation using Euler's forward"
   ]
  },
  {
   "cell_type": "code",
   "execution_count": 1,
   "metadata": {},
   "outputs": [],
   "source": [
    "import numpy as np\n",
    "def EulerMethod(f, t0, tend, u, N):\n",
    "    h = (tend-t0)/N\n",
    "    t = np.linspace(t0, tend, N)\n",
    "    result = []\n",
    "    result.append(u)\n",
    "    for k in range(1, N):\n",
    "        u = u + h * f(t[k-1], u)\n",
    "        result.append(u)\n",
    "    return np.array(t), np.array(result)"
   ]
  },
  {
   "cell_type": "code",
   "execution_count": 2,
   "metadata": {},
   "outputs": [],
   "source": [
    "# define the right side function\n",
    "def f(t, u):\n",
    "    eps = 1\n",
    "    f = np.zeros(2)\n",
    "    f[0] = u[1]\n",
    "    f[1] = -eps*(u[0]**2-1)*u[1]-u[0]\n",
    "    return f"
   ]
  },
  {
   "cell_type": "code",
   "execution_count": 3,
   "metadata": {},
   "outputs": [],
   "source": [
    "# parameters\n",
    "t0 = 0.0\n",
    "tend = 10\n",
    "N = 160\n",
    "u = np.array([1.0, 0.0])\n",
    "t, result = EulerMethod(f, t0, tend, u, N)"
   ]
  },
  {
   "cell_type": "code",
   "execution_count": 4,
   "metadata": {},
   "outputs": [
    {
     "name": "stdout",
     "output_type": "stream",
     "text": [
      "\n",
      "           t          u[ 0 ]          u[ 1 ]   \n",
      "        0.0000         1.0000         0.0000 \n",
      "        0.0629         1.0000        -0.0625 \n",
      "        0.1258         0.9961        -0.1250 \n",
      "        0.1887         0.9883        -0.1873 \n",
      "        0.2516         0.9766        -0.2494 \n",
      "        0.3145         0.9610        -0.3111 \n",
      "        0.3774         0.9415        -0.3727 \n",
      "        0.4403         0.9183        -0.4342 \n",
      "        0.5031         0.8911        -0.4958 \n",
      "        0.5660         0.8601        -0.5579 \n",
      "        0.6289         0.8253        -0.6207 \n",
      "        0.6918         0.7865        -0.6847 \n",
      "        0.7547         0.7437        -0.7501 \n",
      "        0.8176         0.6968        -0.8176 \n",
      "        0.8805         0.6457        -0.8874 \n",
      "        0.9434         0.5902        -0.9601 \n",
      "        1.0063         0.5302        -1.0361 \n",
      "        1.0692         0.4655        -1.1158 \n",
      "        1.1321         0.3957        -1.1995 \n",
      "        1.1950         0.3208        -1.2875 \n",
      "        1.2579         0.2403        -1.3797 \n",
      "        1.3208         0.1541        -1.4760 \n",
      "        1.3836         0.0618        -1.5757 \n",
      "        1.4465        -0.0367        -1.6776 \n",
      "        1.5094        -0.1415        -1.7800 \n",
      "        1.5723        -0.2528        -1.8802 \n",
      "        1.6352        -0.3703        -1.9744 \n",
      "        1.6981        -0.4937        -2.0578 \n",
      "        1.7610        -0.6223        -2.1242 \n",
      "        1.8239        -0.7551        -2.1666 \n",
      "        1.8868        -0.8905        -2.1777 \n",
      "        1.9497        -1.0266        -2.1502 \n",
      "        2.0126        -1.1610        -2.0788 \n",
      "        2.0755        -1.2909        -1.9610 \n",
      "        2.1384        -1.4134        -1.7987 \n",
      "        2.2013        -1.5259        -1.5982 \n",
      "        2.2642        -1.6258        -1.3701 \n",
      "        2.3270        -1.7114        -1.1278 \n",
      "        2.3899        -1.7819        -0.8849 \n",
      "        2.4528        -1.8372        -0.6532 \n",
      "        2.5157        -1.8780        -0.4414 \n",
      "        2.5786        -1.9056        -0.2543 \n",
      "        2.6415        -1.9215        -0.0934 \n",
      "        2.7044        -1.9273         0.0424 \n",
      "        2.7673        -1.9247         0.1557 \n",
      "        2.8302        -1.9150         0.2496 \n",
      "        2.8931        -1.8994         0.3277 \n",
      "        2.9560        -1.8789         0.3930 \n",
      "        3.0189        -1.8543         0.4483 \n",
      "        3.0818        -1.8263         0.4959 \n",
      "        3.1447        -1.7953         0.5376 \n",
      "        3.2075        -1.7617         0.5751 \n",
      "        3.2704        -1.7257         0.6096 \n",
      "        3.3333        -1.6876         0.6421 \n",
      "        3.3962        -1.6475         0.6734 \n",
      "        3.4591        -1.6054         0.7042 \n",
      "        3.5220        -1.5614         0.7352 \n",
      "        3.5849        -1.5155         0.7667 \n",
      "        3.6478        -1.4675         0.7993 \n",
      "        3.7107        -1.4176         0.8333 \n",
      "        3.7736        -1.3655         0.8694 \n",
      "        3.8365        -1.3112         0.9077 \n",
      "        3.8994        -1.2544         0.9489 \n",
      "        3.9623        -1.1951         0.9933 \n",
      "        4.0252        -1.1331         1.0414 \n",
      "        4.0881        -1.0680         1.0937 \n",
      "        4.1509        -0.9996         1.1508 \n",
      "        4.2138        -0.9277         1.2134 \n",
      "        4.2767        -0.8519         1.2819 \n",
      "        4.3396        -0.7717         1.3572 \n",
      "        4.4025        -0.6869         1.4397 \n",
      "        4.4654        -0.5969         1.5301 \n",
      "        4.5283        -0.5013         1.6290 \n",
      "        4.5912        -0.3995         1.7366 \n",
      "        4.6541        -0.2909         1.8528 \n",
      "        4.7170        -0.1751         1.9769 \n",
      "        4.7799        -0.0516         2.1076 \n",
      "        4.8428         0.0801         2.2422 \n",
      "        4.9057         0.2203         2.3765 \n",
      "        4.9686         0.3688         2.5040 \n",
      "        5.0314         0.5253         2.6162 \n",
      "        5.0943         0.6888         2.7018 \n",
      "        5.1572         0.8577         2.7474 \n",
      "        5.2201         1.0294         2.7392 \n",
      "        5.2830         1.2006         2.6647 \n",
      "        5.3459         1.3671         2.5161 \n",
      "        5.4088         1.5244         2.2940 \n",
      "        5.4717         1.6678         2.0089 \n",
      "        5.5346         1.7933         1.6810 \n",
      "        5.5975         1.8984         1.3361 \n",
      "        5.6604         1.9819         1.0000 \n",
      "        5.7233         2.0444         0.6932 \n",
      "        5.7862         2.0877         0.4276 \n",
      "        5.8491         2.1145         0.2074 \n",
      "        5.9119         2.1274         0.0302 \n",
      "        5.9748         2.1293        -0.1094 \n",
      "        6.0377         2.1225        -0.2183 \n",
      "        6.1006         2.1088        -0.3031 \n",
      "        6.1635         2.0899        -0.3696 \n",
      "        6.2264         2.0668        -0.4225 \n",
      "        6.2893         2.0404        -0.4652 \n",
      "        6.3522         2.0113        -0.5008 \n",
      "        6.4151         1.9800        -0.5312 \n",
      "        6.4780         1.9468        -0.5580 \n",
      "        6.5409         1.9119        -0.5824 \n",
      "        6.6038         1.8755        -0.6052 \n",
      "        6.6667         1.8377        -0.6272 \n",
      "        6.7296         1.7985        -0.6489 \n",
      "        6.7925         1.7579        -0.6706 \n",
      "        6.8553         1.7160        -0.6929 \n",
      "        6.9182         1.6727        -0.7159 \n",
      "        6.9811         1.6280        -0.7400 \n",
      "        7.0440         1.5817        -0.7654 \n",
      "        7.1069         1.5339        -0.7925 \n",
      "        7.1698         1.4844        -0.8213 \n",
      "        7.2327         1.4330        -0.8523 \n",
      "        7.2956         1.3798        -0.8858 \n",
      "        7.3585         1.3244        -0.9220 \n",
      "        7.4214         1.2668        -0.9613 \n",
      "        7.4843         1.2067        -1.0041 \n",
      "        7.5472         1.1439        -1.0509 \n",
      "        7.6101         1.0783        -1.1022 \n",
      "        7.6730         1.0094        -1.1583 \n",
      "        7.7358         0.9370        -1.2201 \n",
      "        7.7987         0.8607        -1.2879 \n",
      "        7.8616         0.7802        -1.3626 \n",
      "        7.9245         0.6951        -1.4447 \n",
      "        7.9874         0.6048        -1.5348 \n",
      "        8.0503         0.5088        -1.6334 \n",
      "        8.1132         0.4068        -1.7409 \n",
      "        8.1761         0.2980        -1.8571 \n",
      "        8.2390         0.1819        -1.9815 \n",
      "        8.3019         0.0580        -2.1126 \n",
      "        8.3648        -0.0740        -2.2478 \n",
      "        8.4277        -0.2145        -2.3829 \n",
      "        8.4906        -0.3634        -2.5116 \n",
      "        8.5535        -0.5204        -2.6251 \n",
      "        8.6164        -0.6845        -2.7122 \n",
      "        8.6792        -0.8540        -2.7596 \n",
      "        8.7421        -1.0265        -2.7529 \n",
      "        8.8050        -1.1985        -2.6795 \n",
      "        8.8679        -1.3660        -2.5315 \n",
      "        8.9308        -1.5242        -2.3091 \n",
      "        8.9937        -1.6685        -2.0229 \n",
      "        9.0566        -1.7949        -1.6931 \n",
      "        9.1195        -1.9008        -1.3458 \n",
      "        9.1824        -1.9849        -1.0072 \n",
      "        9.2453        -2.0478        -0.6981 \n",
      "        9.3082        -2.0915        -0.4308 \n",
      "        9.3711        -2.1184        -0.2092 \n",
      "        9.4340        -2.1315        -0.0312 \n",
      "        9.4969        -2.1334         0.1089 \n",
      "        9.5597        -2.1266         0.2181 \n",
      "        9.6226        -2.1130         0.3030 \n",
      "        9.6855        -2.0940         0.3694 \n",
      "        9.7484        -2.0709         0.4222 \n",
      "        9.8113        -2.0446         0.4648 \n",
      "        9.8742        -2.0155         0.5002 \n",
      "        9.9371        -1.9842         0.5304 \n",
      "       10.0000        -1.9511         0.5571 \n"
     ]
    }
   ],
   "source": [
    "# desplay the solution\n",
    "n = len(result[0])\n",
    "m = len(t)\n",
    "print(\"\\n           t \", end =\"  \")\n",
    "for i in range(n):\n",
    "    print(\"       u[\",i,\"] \", end=\"  \")\n",
    "print()\n",
    "for i in range(0, m):\n",
    "    print(\"{:14.4f}\".format(t[i]), end=\" \")\n",
    "    for j in range(n):\n",
    "        print(\"{:14.4f}\".format(result[i][j]), end=\" \")\n",
    "    print()\n"
   ]
  },
  {
   "cell_type": "code",
   "execution_count": 5,
   "metadata": {},
   "outputs": [
    {
     "data": {
      "image/png": "[encoded data removed]",
      "text/plain": [
       "<Figure size 432x288 with 1 Axes>"
      ]
     },
     "metadata": {
      "needs_background": "light"
     },
     "output_type": "display_data"
    }
   ],
   "source": [
    "# ploting the solution\n",
    "import matplotlib.pyplot as plt\n",
    "plt.plot(result[:, 0], result[:, 1], result[0][0], result[0][1], 'ro')\n",
    "plt.xlabel('y')\n",
    "plt.ylabel('du/dt')\n",
    "plt.grid(True)\n",
    "plt.title(\" Van der Pol, eps  = 1 \")\n",
    "plt.show()"
   ]
  },
  {
   "cell_type": "code",
   "execution_count": 6,
   "metadata": {},
   "outputs": [
    {
     "data": {
      "image/png": "[encoded data removed]",
      "text/plain": [
       "<Figure size 432x288 with 1 Axes>"
      ]
     },
     "metadata": {
      "needs_background": "light"
     },
     "output_type": "display_data"
    }
   ],
   "source": [
    "# The solution trajectories,\n",
    "plt.plot(t, result[:, 0])\n",
    "plt.plot(t, result[:, 1])\n",
    "plt.xlabel('t')\n",
    "plt.legend(['y', 'dy/dt'])\n",
    "plt.grid(True)\n",
    "plt.title(\" Van der Pol, eps  = 1 \")\n",
    "plt.show()"
   ]
  },
  {
   "cell_type": "markdown",
   "metadata": {},
   "source": [
    "## Modify the this program so that it will display the phase portrait for different value of epselon.\n"
   ]
  },
  {
   "cell_type": "code",
   "execution_count": null,
   "metadata": {},
   "outputs": [],
   "source": []
  }
 ],
 "metadata": {
  "kernelspec": {
   "display_name": "Python 3",
   "language": "python",
   "name": "python3"
  },
  "language_info": {
   "codemirror_mode": {
    "name": "ipython",
    "version": 3
   },
   "file_extension": ".py",
   "mimetype": "text/x-python",
   "name": "python",
   "nbconvert_exporter": "python",
   "pygments_lexer": "ipython3",
   "version": "3.8.5"
  }
 },
 "nbformat": 4,
 "nbformat_minor": 4
}
