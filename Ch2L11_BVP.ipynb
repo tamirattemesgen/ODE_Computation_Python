{
 "cells": [
  {
   "cell_type": "markdown",
   "metadata": {},
   "source": [
    "### Numerical Methods For Boundary Value Problems:Drichlet's BCs\n",
    "\n",
    "$$-\\frac{d^2u}{dx^2} = f(x), \\quad x\\in[a, b]$$ with the following boundary conditions\n",
    "$$u(a)= \\alpha, \\quad u(b) = \\beta$$\n",
    "using finite difference method, where $f(x) = \\sin(\\pi x) $  given right hand side function.\n",
    "\n",
    "#### Discretize the interval to a Grid\n",
    "$$x_0 = a, x_1 = a+h, x_2 = a+2h, \\dots, x_{N+1} = b$$\n",
    "Note \n",
    "$$h(N+1) = b-a.$$\n",
    "#### At the inner  discrete points the differential equation becomes,\n",
    "            \n",
    "\\begin{align}\n",
    "-\\frac{u_2-2u_1}{h^2} & = f(x_1) \\\\\n",
    "-\\frac{u_{i+1}-2u_i+u_{i-1}}{h^2} & =f(x_i)\\quad i=1=2,3,\\dots,N-1\\\\\n",
    "-\\frac{-2u_N+u_{N-1}}{h^2} &= f(x_N)\n",
    "\\end{align}\n",
    "Moreover, form the boundary conditions,\n",
    "\n",
    "$$u_0= \\alpha,\\quad u_{N+1}=\\beta .$$ \n",
    "#### The systme of equation can be written in matrix form:  $ A\\textbf{u} = \\textbf{b} $, where\n",
    "\n",
    "$$ A =\\left(\\begin{array}{ccccc}\n",
    "2&-1&0&0&\\dots\\\\\n",
    "-1&2&-1&0&\\dots\\\\\n",
    "& &\\dots & &\\\\\n",
    "\\dots&0&-1&2&-1\\\\\n",
    "\\dots&0&0&-1&2\n",
    "\\end{array} \\right),\\quad \\textbf{b} = h^2\\left(\\begin{array}{c}\n",
    "\t\tf(x_1)\\\\f(x_2)\\\\\\vdots\\\\f(x_{N-1})\\\\f(x_N)\n",
    "\t\t\\end{array} \\right)    $$\n"
   ]
  },
  {
   "cell_type": "markdown",
   "metadata": {},
   "source": [
    "#### Python Implimentation"
   ]
  },
  {
   "cell_type": "code",
   "execution_count": 1,
   "metadata": {},
   "outputs": [],
   "source": [
    "import numpy as np\n",
    "import matplotlib.pyplot as plt"
   ]
  },
  {
   "cell_type": "code",
   "execution_count": 2,
   "metadata": {},
   "outputs": [],
   "source": [
    "a, b = [0, 1]\n",
    "alpha = 0\n",
    "beta = 0\n",
    "N = 100\n",
    "h =(b-a)/(N+1)  # step size\n",
    "xp = np.arange(a, b+h, h) # Discretize the domain (Grid)\n",
    "x = np.arange(a+h, b, h)  # Inner points"
   ]
  },
  {
   "cell_type": "code",
   "execution_count": 3,
   "metadata": {},
   "outputs": [],
   "source": [
    "#Define the right side function\n",
    "f = lambda x: np.sin(np.pi*x)"
   ]
  },
  {
   "cell_type": "code",
   "execution_count": 11,
   "metadata": {},
   "outputs": [],
   "source": [
    "# Initialize the matrix coefficient matrix A and the right side column vector B\n",
    "b = np.zeros(len(x))\n",
    "A = np.zeros((N,N))"
   ]
  },
  {
   "cell_type": "code",
   "execution_count": 5,
   "metadata": {},
   "outputs": [],
   "source": [
    "# Setting the enteries b\n",
    "for i in range(0, len(x)):\n",
    "    b[i] = h**2*f(x[i])"
   ]
  },
  {
   "cell_type": "code",
   "execution_count": 6,
   "metadata": {},
   "outputs": [],
   "source": [
    "# Setting the enteries for A\n",
    "for k in range(0, N-1):\n",
    "    A[k][k] = 2      # the diagonal entries\n",
    "    A[k][k+1] = -1   # the upper diagonal entries\n",
    "    A[k+1][k] = -1   # the lowr diagnoal entries\n",
    "A[-1][-1] = 2"
   ]
  },
  {
   "cell_type": "code",
   "execution_count": 7,
   "metadata": {},
   "outputs": [],
   "source": [
    "# solve the equation to determine the approximation of the unknowns in the interior grid points\n",
    "u = np.dot(np.linalg.inv(A),b) "
   ]
  },
  {
   "cell_type": "code",
   "execution_count": 8,
   "metadata": {},
   "outputs": [],
   "source": [
    "# Inclue the boundary values to the solution\n",
    "result = np.zeros(len(xp))\n",
    "result[0] = alpha\n",
    "result[-1] = beta\n",
    "result[1:len(xp)-1] = u[:]"
   ]
  },
  {
   "cell_type": "code",
   "execution_count": 14,
   "metadata": {},
   "outputs": [
    {
     "data": {
      "image/png": "[encoded data removed]",
      "text/plain": [
       "<Figure size 432x288 with 1 Axes>"
      ]
     },
     "metadata": {
      "needs_background": "light"
     },
     "output_type": "display_data"
    }
   ],
   "source": [
    "# Plot the solution\n",
    "plt.plot(xp,result)\n",
    "plt.xlabel('x')\n",
    "plt.ylabel('u')\n",
    "plt.title('The solution of BVP -d^2u/dx^2 = sin(\\pi*x, u(0)=u(1)=0)')\n",
    "plt.tight_layout() \n",
    "plt.grid()\n",
    "plt.show()\n"
   ]
  },
  {
   "cell_type": "code",
   "execution_count": null,
   "metadata": {},
   "outputs": [],
   "source": []
  }
 ],
 "metadata": {
  "kernelspec": {
   "display_name": "Python 3",
   "language": "python",
   "name": "python3"
  },
  "language_info": {
   "codemirror_mode": {
    "name": "ipython",
    "version": 3
   },
   "file_extension": ".py",
   "mimetype": "text/x-python",
   "name": "python",
   "nbconvert_exporter": "python",
   "pygments_lexer": "ipython3",
   "version": "3.8.5"
  }
 },
 "nbformat": 4,
 "nbformat_minor": 4
}
