{
 "cells": [
  {
   "cell_type": "markdown",
   "metadata": {},
   "source": [
    "## Numerical experiment on the accuracy of the RK4 method\n"
   ]
  },
  {
   "cell_type": "code",
   "execution_count": 1,
   "metadata": {},
   "outputs": [],
   "source": [
    "import numpy as np"
   ]
  },
  {
   "cell_type": "code",
   "execution_count": 2,
   "metadata": {},
   "outputs": [],
   "source": [
    "# RK4\n",
    "def RungeKutta4(f, t0, tend, u, N):\n",
    "    h = (tend-t0)/N\n",
    "    result = []\n",
    "    time = []\n",
    "    result.append(u)\n",
    "    time.append(t0)\n",
    "    t = t0\n",
    "    for i in range(1, N+1):\n",
    "        k1 = f(t, u)\n",
    "        k2 = f(t+h/2, u+h*k1/2)\n",
    "        k3 = f(t+h/2, u+h*k2/2)\n",
    "        k4 = f(t+h, u+h*k3)\n",
    "        u = u + h*(k1+2*k2+2*k3+k4)/6\n",
    "        t = t+h\n",
    "        result.append(u)\n",
    "        time.append(t)\n",
    "    return h,  np.array(time), np.array(result)\n"
   ]
  },
  {
   "cell_type": "code",
   "execution_count": 3,
   "metadata": {},
   "outputs": [],
   "source": [
    "# define the right side fucntion for the system\n",
    "def f(t, u):\n",
    "    eps = 0.1\n",
    "    f = np.zeros(2)\n",
    "    f[0] = u[1]\n",
    "    f[1] = -eps*(u[0]**2-1)*u[1]-u[0]\n",
    "    return f"
   ]
  },
  {
   "cell_type": "code",
   "execution_count": 4,
   "metadata": {},
   "outputs": [],
   "source": [
    "t0 = 0.0\n",
    "tend = 1\n",
    "N = [1, 2, 4, 8]\n",
    "u = np.array([1.0, 0.0])\n",
    "h, time, result = RungeKutta4(f, t0, tend, u, 64)\n",
    "y1 = result[-1][0]\n",
    "u_N = []\n",
    "step =[]\n",
    "e = []\n",
    "for k in range(0, len(N)):\n",
    "    h, time , result = RungeKutta4(f, t0, tend, u, N[k])\n",
    "    u_N.append(result[-1][0])\n",
    "    dif = u_N[k]- y1\n",
    "    e.append(dif)\n",
    "    step.append(h)\n"
   ]
  },
  {
   "cell_type": "code",
   "execution_count": 5,
   "metadata": {},
   "outputs": [
    {
     "name": "stdout",
     "output_type": "stream",
     "text": [
      "\n",
      "           N                h             u_1N             u_1N-y(1) \n",
      "         ___________________________________________________________ \n",
      "           1           1.0000            0.5380            0.001603 \n",
      "           2           0.5000            0.5367            0.000265 \n",
      "           4           0.2500            0.5364            0.000022 \n",
      "           8           0.1250            0.5364            0.000002 \n"
     ]
    }
   ],
   "source": [
    "print(\"\\n           N \", end=\"  \")\n",
    "print(\"             h \", end=\" \")\n",
    "print(\"           u_1N\", end=\"  \")\n",
    "print(\"           u_1N-y(1)\", end = \" \")\n",
    "print(\"\\n         ___________________________________________________________\", end= \" \")\n",
    "print()\n",
    "for i in range(0, len(N)):\n",
    "    print(\"{:12d}\".format(N[i]), end=\" \")\n",
    "    print(\"{:16.4f}\".format(step[i]), end=\" \")\n",
    "    print(\"{:17.4f}\".format(u_N[i]), end=\" \")\n",
    "    print(\"{:19.6f}\".format(e[i]), end = \" \")\n",
    "    print()"
   ]
  },
  {
   "cell_type": "code",
   "execution_count": 6,
   "metadata": {},
   "outputs": [
    {
     "data": {
      "image/png": "[encoded data removed]",
      "text/plain": [
       "<Figure size 432x288 with 1 Axes>"
      ]
     },
     "metadata": {
      "needs_background": "light"
     },
     "output_type": "display_data"
    }
   ],
   "source": [
    "import matplotlib.pyplot as plt\n",
    "plt.loglog(step, e)\n",
    "plt.xlabel('step size h')\n",
    "plt.ylabel('trunction error')\n",
    "plt.title('loglog-diagram of error as function of h')\n",
    "plt.grid()\n",
    "plt.show()\n"
   ]
  },
  {
   "cell_type": "code",
   "execution_count": null,
   "metadata": {},
   "outputs": [],
   "source": []
  }
 ],
 "metadata": {
  "kernelspec": {
   "display_name": "Python 3",
   "language": "python",
   "name": "python3"
  },
  "language_info": {
   "codemirror_mode": {
    "name": "ipython",
    "version": 3
   },
   "file_extension": ".py",
   "mimetype": "text/x-python",
   "name": "python",
   "nbconvert_exporter": "python",
   "pygments_lexer": "ipython3",
   "version": "3.8.5"
  }
 },
 "nbformat": 4,
 "nbformat_minor": 4
}
