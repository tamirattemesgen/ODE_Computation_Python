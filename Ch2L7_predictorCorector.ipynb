{
 "cells": [
  {
   "cell_type": "markdown",
   "metadata": {},
   "source": [
    "The trapezoid rule, predictor corrector method for \n",
    "\n",
    "$$\\frac{du}{dt} = u + t$$"
   ]
  },
  {
   "cell_type": "code",
   "execution_count": 1,
   "metadata": {},
   "outputs": [],
   "source": [
    "import numpy as np\n",
    "import matplotlib.pyplot as plt"
   ]
  },
  {
   "cell_type": "code",
   "execution_count": 2,
   "metadata": {},
   "outputs": [],
   "source": [
    "# the right side function\n",
    "def f(u, t):\n",
    "    return u+t"
   ]
  },
  {
   "cell_type": "code",
   "execution_count": 3,
   "metadata": {},
   "outputs": [],
   "source": [
    "# the parameters\n",
    "a, b = [0, 3]\n",
    "u0 = 1\n",
    "h = 0.1\n",
    "t = np.arange(a, b+h, h)"
   ]
  },
  {
   "cell_type": "code",
   "execution_count": null,
   "metadata": {},
   "outputs": [],
   "source": []
  },
  {
   "cell_type": "code",
   "execution_count": 4,
   "metadata": {},
   "outputs": [],
   "source": [
    "#initializing the solutions\n",
    "u = np.zeros(len(t))\n",
    "u[0]= u0\n",
    "u_exact = np.zeros(len(t))\n",
    "u_exact[0] = u0\n"
   ]
  },
  {
   "cell_type": "code",
   "execution_count": 5,
   "metadata": {},
   "outputs": [],
   "source": [
    "# Euler's forward abd analytic solution\n",
    "for k in range(1, len(t)):\n",
    "    u[k] = u[k-1]+h*f(t[k-1], u[k-1])\n",
    "    u_exact[k]= -t[k]-1+2*np.exp(t[k])"
   ]
  },
  {
   "cell_type": "code",
   "execution_count": 6,
   "metadata": {},
   "outputs": [],
   "source": [
    "# Trapexoid predictor-corrector method\n",
    "pred = u0\n",
    "cort = np.zeros(len(t))\n",
    "cort[0]= u0\n",
    "for k in range(1, len(t)):\n",
    "    pred = pred + h*f(t[k-1], cort[k-1]) #predictor\n",
    "    cort[k] = cort[k-1]+0.5*h*(f(t[k],pred ) + f(t[k-1], cort[k-1] ))"
   ]
  },
  {
   "cell_type": "code",
   "execution_count": 7,
   "metadata": {},
   "outputs": [
    {
     "name": "stdout",
     "output_type": "stream",
     "text": [
      "\n",
      "     t        u         cort        u_exact       e_Eulur      e_PreCor \n",
      "        ---------------------------------------------------------------------------\n",
      "\n",
      "    2.6000    20.2364      22.4809    23.3275       3.0911       0.8466 \n",
      "    2.7000    22.5200      25.0777    26.0595       3.5395       0.9817 \n",
      "    2.8000    25.0420      27.9533    29.0893       4.0473       1.1360 \n",
      "    2.9000    27.8262      31.1365    32.4483       4.6221       1.3118 \n",
      "    3.0000    30.8988      34.6590    36.1711       5.2723       1.5121 \n"
     ]
    }
   ],
   "source": [
    "#print the solution\n",
    "print(\"\\n     t\", end = \" \")\n",
    "print(\"       u\", end = \" \")\n",
    "print(\"        cort\", end= \" \")\n",
    "print(\"       u_exact\", end =\" \")\n",
    "print(\"      e_Eulur\", end =\" \")\n",
    "print(\"     e_PreCor\", end =\" \")\n",
    "print(\"\\n        ---------------------------------------------------------------------------\")\n",
    "for i in range(len(t)-5, len(t)):          #print the last five\n",
    "    print(\"\\n{:10.4f}\".format(t[i]), end = \" \")\n",
    "    print(\"{:10.4f}\".format(u[i]), end = \" \")\n",
    "    print(\"{:12.4f}\".format(cort[i]), end= \" \")\n",
    "    print(\"{:10.4f}\".format(u_exact[i]), end = \" \")\n",
    "    print(\"{:12.4f}\".format(abs(u[i]-u_exact[i])), end=\" \")\n",
    "    print(\"{:12.4f}\".format(abs(cort[i]-u_exact[i])), end=\" \")\n",
    "\n",
    "print()"
   ]
  },
  {
   "cell_type": "code",
   "execution_count": 8,
   "metadata": {},
   "outputs": [
    {
     "data": {
      "image/png": "[encoded data removed]",
      "text/plain": [
       "<Figure size 432x288 with 1 Axes>"
      ]
     },
     "metadata": {
      "needs_background": "light"
     },
     "output_type": "display_data"
    }
   ],
   "source": [
    "# Plot\n",
    "plt.plot(t, u, '*', t, cort, 'o', t, u_exact, '-')\n",
    "plt.grid(True)\n",
    "plt.xlabel('t'); plt.ylabel('u')\n",
    "plt.legend(('Euler Forward', 'Trapizoid Predictor-Corrector', 'Exact Solution'), loc = 0)\n",
    "plt.show()"
   ]
  },
  {
   "cell_type": "code",
   "execution_count": null,
   "metadata": {},
   "outputs": [],
   "source": []
  }
 ],
 "metadata": {
  "kernelspec": {
   "display_name": "Python 3",
   "language": "python",
   "name": "python3"
  },
  "language_info": {
   "codemirror_mode": {
    "name": "ipython",
    "version": 3
   },
   "file_extension": ".py",
   "mimetype": "text/x-python",
   "name": "python",
   "nbconvert_exporter": "python",
   "pygments_lexer": "ipython3",
   "version": "3.8.5"
  }
 },
 "nbformat": 4,
 "nbformat_minor": 2
}
