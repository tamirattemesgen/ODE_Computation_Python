{
 "cells": [
  {
   "cell_type": "code",
   "execution_count": null,
   "metadata": {},
   "outputs": [],
   "source": []
  },
  {
   "cell_type": "code",
   "execution_count": 1,
   "metadata": {},
   "outputs": [],
   "source": [
    "import numpy as np\n",
    "import matplotlib.pyplot as plt\n",
    "\n",
    "def theta_rule(u0, lmda, tend, dt, theta):\n",
    "    \"\"\"\n",
    "    Function for solving u' = \\lambda u, u(0)= u0, on [0, tend] with steps of dt.\n",
    "    \"\"\"\n",
    "    N = int(tend/dt)              # number of time intervals\n",
    "    tend = N*dt                   # adjust tend  to fit time step dt\n",
    "    u = np.zeros(N+1)             # array of u[k] values\n",
    "    t = np.linspace(0, tend, N+1) # time mesh    \n",
    "    u[0] = u0                     # assign the initial condition\n",
    "    for k in range(0, N):\n",
    "        u[k+1] = (1+(1-theta)*lmda*dt)/(1-theta*lmda*dt)*u[k]\n",
    "    return u, t"
   ]
  },
  {
   "cell_type": "code",
   "execution_count": 2,
   "metadata": {},
   "outputs": [
    {
     "name": "stdout",
     "output_type": "stream",
     "text": [
      "t =  0.000 u = 1\n",
      "t =  0.300 u = 0.769231\n",
      "t =  0.600 u = 0.591716\n",
      "t =  0.900 u = 0.455166\n",
      "t =  1.200 u = 0.350128\n",
      "t =  1.500 u = 0.269329\n",
      "t =  1.800 u = 0.207176\n",
      "t =  2.100 u = 0.159366\n",
      "t =  2.400 u = 0.122589\n",
      "t =  2.700 u = 0.0942996\n",
      "t =  3.000 u = 0.0725382\n"
     ]
    }
   ],
   "source": [
    "# Exact solution\n",
    "def u_exact(t, u0, lmda):\n",
    "    return u0*np.exp(lmda*t)\n",
    "u0 = 1\n",
    "lmda = -1\n",
    "tend = 3\n",
    "dt = 0.3\n",
    "theta = 1.0\n",
    "u, t = theta_rule(u0, lmda, tend, dt, theta)\n",
    "# Write out  a table of t and u values:   \n",
    "for i in range(len(t)):\n",
    "    print ('t = %6.3f u = %g' % (t[i], u[i]))  "
   ]
  },
  {
   "cell_type": "code",
   "execution_count": 3,
   "metadata": {},
   "outputs": [
    {
     "data": {
      "image/png": "[encoded data removed]",
      "text/plain": [
       "<Figure size 432x288 with 1 Axes>"
      ]
     },
     "metadata": {
      "needs_background": "light"
     },
     "output_type": "display_data"
    }
   ],
   "source": [
    "t_e = np.linspace(0, tend, 1001)       # fine mesh\n",
    "u_e = u_exact(t_e, u0, lmda)\n",
    "plt.plot(t_e, u_e, 'b-', t, u, 'r--o')\n",
    "plt.xlabel('t')\n",
    "plt.ylabel('u')\n",
    "plt.legend(['exact', 'numerical'])\n",
    "plt.title('theta = %g, dt = %g' % (theta, dt))\n",
    "plt.grid()\n",
    "plt.savefig('fig_theta.png', dpi=300, bbox_inches='tight')\n",
    "plt.show() "
   ]
  },
  {
   "cell_type": "code",
   "execution_count": null,
   "metadata": {},
   "outputs": [],
   "source": []
  }
 ],
 "metadata": {
  "kernelspec": {
   "display_name": "Python 3",
   "language": "python",
   "name": "python3"
  },
  "language_info": {
   "codemirror_mode": {
    "name": "ipython",
    "version": 3
   },
   "file_extension": ".py",
   "mimetype": "text/x-python",
   "name": "python",
   "nbconvert_exporter": "python",
   "pygments_lexer": "ipython3",
   "version": "3.8.5"
  }
 },
 "nbformat": 4,
 "nbformat_minor": 4
}
